{
  "nbformat": 4,
  "nbformat_minor": 0,
  "metadata": {
    "colab": {
      "name": "01_RodarVideo.ipynb",
      "version": "0.3.2",
      "provenance": [],
      "collapsed_sections": [],
      "include_colab_link": true
    },
    "kernelspec": {
      "display_name": "Python 3",
      "language": "python",
      "name": "python3"
    }
  },
  "cells": [
    {
      "cell_type": "markdown",
      "metadata": {
        "id": "view-in-github",
        "colab_type": "text"
      },
      "source": [
        "<a href=\"https://colab.research.google.com/github/racfish78/agenda/blob/master/01_RodarVideo.ipynb\" target=\"_parent\"><img src=\"https://colab.research.google.com/assets/colab-badge.svg\" alt=\"Open In Colab\"/></a>"
      ]
    },
    {
      "metadata": {
        "id": "LdzKyLoODDut",
        "colab_type": "code",
        "outputId": "18830e8d-32ec-4bf2-e6cc-2dba67c9f736",
        "colab": {
          "base_uri": "https://localhost:8080/",
          "height": 193714
        }
      },
      "cell_type": "code",
      "source": [
        "import sys\n",
        "import cv2\n",
        "import time\n",
        "import numpy as np\n",
        "import PIL\n",
        "\n",
        "global str\n",
        "\n",
        "def cv2_imshow(a):\n",
        "  \"\"\"A replacement for cv2.imshow() for use in Jupyter notebooks.\"\"\"\n",
        "  a = a.clip(0, 255)\n",
        "  # cv2 stores colors as BGR; convert to RGB\n",
        "  if a.ndim == 3:\n",
        "    if a.shape[2] == 4:\n",
        "      a = cv2.cvtColor(a, cv2.COLOR_BGRA2RGBA)\n",
        "    else:\n",
        "      a = cv2.cvtColor(a, cv2.COLOR_BGR2RGB)\n",
        "  display(PIL.Image.fromarray(a))\n",
        "\n",
        "# Inicializar o vídeo\n",
        "cap = cv2.VideoCapture('Imagens/cars.avi')\n",
        "\n",
        "frameIndex = 0\n",
        "\n",
        "# Loop para o vídeo carregado\n",
        "while cap.isOpened():\n",
        "\n",
        "    # Velocidade da exibição do vídeo\n",
        "    time.sleep(.05)\n",
        "\n",
        "    # Ler o frame atual\n",
        "    ret, frame = cap.read()\n",
        "\n",
        "    # Mostrar frame\n",
        "    print('Carros')\n",
        "    cv2_imshow(frame)\n",
        "    \n",
        "    #cv2.imwrite('Video/frame' + str(frameIndex) + '.jpg', frame)\n",
        "\n",
        "    # Se for digitado ESC ou ENTER, finaliza a exibição do vídeo\n",
        "    #k = cv2.waitKey(1)\n",
        "    #if k == 27 or k == 13:\n",
        "    #    break\n",
        "\n",
        "cap.release()\n",
        "cv2.destroyAllWindows()"
      ],
      "execution_count": 0,
      "outputs": []
    }
  ]
}